{
  "nbformat": 4,
  "nbformat_minor": 0,
  "metadata": {
    "kernelspec": {
      "display_name": "Python 3",
      "language": "python",
      "name": "python3"
    },
    "language_info": {
      "codemirror_mode": {
        "name": "ipython",
        "version": 3
      },
      "file_extension": ".py",
      "mimetype": "text/x-python",
      "name": "python",
      "nbconvert_exporter": "python",
      "pygments_lexer": "ipython3",
      "version": "3.7.5rc1"
    },
    "colab": {
      "name": "Group_4_Assignment_Two_Gold.ipynb",
      "provenance": [],
      "collapsed_sections": [],
      "toc_visible": true
    }
  },
  "cells": [
    {
      "cell_type": "markdown",
      "metadata": {
        "id": "bCLPX_Bs05FU",
        "colab_type": "text"
      },
      "source": [
        "## Imports"
      ]
    },
    {
      "cell_type": "code",
      "metadata": {
        "id": "xDhKP9tU05Fa",
        "colab_type": "code",
        "outputId": "9265ae3d-5d5f-4ed8-82df-1edc34e2be39",
        "colab": {
          "base_uri": "https://localhost:8080/",
          "height": 190
        }
      },
      "source": [
        "%tensorflow_version 2.x\n",
        "! pip install git+git://github.com/anfederico/Gemini.git\n",
        "import tensorflow as tf\n",
        "import numpy as np\n",
        "import matplotlib.pyplot as plt\n",
        "import pandas as pd\n",
        "from pandas.plotting import autocorrelation_plot\n",
        "from sklearn.metrics import mean_squared_error\n",
        "from helper import windowed_dataset"
      ],
      "execution_count": 55,
      "outputs": [
        {
          "output_type": "stream",
          "text": [
            "Collecting git+git://github.com/anfederico/Gemini.git\n",
            "  Cloning git://github.com/anfederico/Gemini.git to /tmp/pip-req-build-1u9dzejr\n",
            "  Running command git clone -q git://github.com/anfederico/Gemini.git /tmp/pip-req-build-1u9dzejr\n",
            "Requirement already satisfied (use --upgrade to upgrade): gemini==1.0.0 from git+git://github.com/anfederico/Gemini.git in /usr/local/lib/python3.6/dist-packages\n",
            "Building wheels for collected packages: gemini\n",
            "  Building wheel for gemini (setup.py) ... \u001b[?25l\u001b[?25hdone\n",
            "  Created wheel for gemini: filename=gemini-1.0.0-cp36-none-any.whl size=37371 sha256=f70a68dba67d73e9f553670fecb848550e55dea107baac70a533faaecef2daee\n",
            "  Stored in directory: /tmp/pip-ephem-wheel-cache-65273z7i/wheels/96/c4/35/d73bfb8dc4304cc3bea43263d5efcf2f1b3985876acdcc3191\n",
            "Successfully built gemini\n"
          ],
          "name": "stdout"
        }
      ]
    },
    {
      "cell_type": "markdown",
      "metadata": {
        "id": "jKQRuVvq05Ff",
        "colab_type": "text"
      },
      "source": [
        "## Load and prepare data"
      ]
    },
    {
      "cell_type": "code",
      "metadata": {
        "id": "L16N3Chn05Fg",
        "colab_type": "code",
        "outputId": "585c0570-1bf9-4ae8-e020-86557cfea993",
        "colab": {
          "base_uri": "https://localhost:8080/",
          "height": 235
        }
      },
      "source": [
        "fname = '/content/BTCUSD_12h_2011-09-13_to_2019-10-23_bitstamp.csv'\n",
        "data = pd.read_csv(fname)\n",
        "data.set_index('date', inplace=True)\n",
        "#check the data\n",
        "data.head()"
      ],
      "execution_count": 0,
      "outputs": [
        {
          "output_type": "execute_result",
          "data": {
            "text/html": [
              "<div>\n",
              "<style scoped>\n",
              "    .dataframe tbody tr th:only-of-type {\n",
              "        vertical-align: middle;\n",
              "    }\n",
              "\n",
              "    .dataframe tbody tr th {\n",
              "        vertical-align: top;\n",
              "    }\n",
              "\n",
              "    .dataframe thead th {\n",
              "        text-align: right;\n",
              "    }\n",
              "</style>\n",
              "<table border=\"1\" class=\"dataframe\">\n",
              "  <thead>\n",
              "    <tr style=\"text-align: right;\">\n",
              "      <th></th>\n",
              "      <th>open</th>\n",
              "      <th>high</th>\n",
              "      <th>low</th>\n",
              "      <th>close</th>\n",
              "      <th>volume</th>\n",
              "    </tr>\n",
              "    <tr>\n",
              "      <th>date</th>\n",
              "      <th></th>\n",
              "      <th></th>\n",
              "      <th></th>\n",
              "      <th></th>\n",
              "      <th></th>\n",
              "    </tr>\n",
              "  </thead>\n",
              "  <tbody>\n",
              "    <tr>\n",
              "      <th>2011-09-13 12:00:00</th>\n",
              "      <td>5.80</td>\n",
              "      <td>6.00</td>\n",
              "      <td>5.65</td>\n",
              "      <td>5.97</td>\n",
              "      <td>58.371382</td>\n",
              "    </tr>\n",
              "    <tr>\n",
              "      <th>2011-09-14 00:00:00</th>\n",
              "      <td>5.58</td>\n",
              "      <td>5.72</td>\n",
              "      <td>5.52</td>\n",
              "      <td>5.52</td>\n",
              "      <td>59.108684</td>\n",
              "    </tr>\n",
              "    <tr>\n",
              "      <th>2011-09-14 12:00:00</th>\n",
              "      <td>5.52</td>\n",
              "      <td>5.53</td>\n",
              "      <td>5.52</td>\n",
              "      <td>5.53</td>\n",
              "      <td>2.037300</td>\n",
              "    </tr>\n",
              "    <tr>\n",
              "      <th>2011-09-15 00:00:00</th>\n",
              "      <td>5.12</td>\n",
              "      <td>5.12</td>\n",
              "      <td>5.00</td>\n",
              "      <td>5.00</td>\n",
              "      <td>50.546583</td>\n",
              "    </tr>\n",
              "    <tr>\n",
              "      <th>2011-09-15 12:00:00</th>\n",
              "      <td>5.21</td>\n",
              "      <td>5.24</td>\n",
              "      <td>5.13</td>\n",
              "      <td>5.13</td>\n",
              "      <td>29.594212</td>\n",
              "    </tr>\n",
              "  </tbody>\n",
              "</table>\n",
              "</div>"
            ],
            "text/plain": [
              "                     open  high   low  close     volume\n",
              "date                                                   \n",
              "2011-09-13 12:00:00  5.80  6.00  5.65   5.97  58.371382\n",
              "2011-09-14 00:00:00  5.58  5.72  5.52   5.52  59.108684\n",
              "2011-09-14 12:00:00  5.52  5.53  5.52   5.53   2.037300\n",
              "2011-09-15 00:00:00  5.12  5.12  5.00   5.00  50.546583\n",
              "2011-09-15 12:00:00  5.21  5.24  5.13   5.13  29.594212"
            ]
          },
          "metadata": {
            "tags": []
          },
          "execution_count": 3
        }
      ]
    },
    {
      "cell_type": "code",
      "metadata": {
        "id": "uNZ72Eeg05Fk",
        "colab_type": "code",
        "outputId": "04c7d2b5-1abe-4736-d470-f428a85db21a",
        "colab": {
          "base_uri": "https://localhost:8080/",
          "height": 235
        }
      },
      "source": [
        "# linear interpolation to fill missing values\n",
        "data = data.interpolate()\n",
        "\n",
        "# add returns, i.e. percentage change\n",
        "data['returns'] = data['high'].pct_change(periods=1)\n",
        "\n",
        "# check the data\n",
        "data.head()"
      ],
      "execution_count": 0,
      "outputs": [
        {
          "output_type": "execute_result",
          "data": {
            "text/html": [
              "<div>\n",
              "<style scoped>\n",
              "    .dataframe tbody tr th:only-of-type {\n",
              "        vertical-align: middle;\n",
              "    }\n",
              "\n",
              "    .dataframe tbody tr th {\n",
              "        vertical-align: top;\n",
              "    }\n",
              "\n",
              "    .dataframe thead th {\n",
              "        text-align: right;\n",
              "    }\n",
              "</style>\n",
              "<table border=\"1\" class=\"dataframe\">\n",
              "  <thead>\n",
              "    <tr style=\"text-align: right;\">\n",
              "      <th></th>\n",
              "      <th>open</th>\n",
              "      <th>high</th>\n",
              "      <th>low</th>\n",
              "      <th>close</th>\n",
              "      <th>volume</th>\n",
              "      <th>returns</th>\n",
              "    </tr>\n",
              "    <tr>\n",
              "      <th>date</th>\n",
              "      <th></th>\n",
              "      <th></th>\n",
              "      <th></th>\n",
              "      <th></th>\n",
              "      <th></th>\n",
              "      <th></th>\n",
              "    </tr>\n",
              "  </thead>\n",
              "  <tbody>\n",
              "    <tr>\n",
              "      <th>2011-09-13 12:00:00</th>\n",
              "      <td>5.80</td>\n",
              "      <td>6.00</td>\n",
              "      <td>5.65</td>\n",
              "      <td>5.97</td>\n",
              "      <td>58.371382</td>\n",
              "      <td>NaN</td>\n",
              "    </tr>\n",
              "    <tr>\n",
              "      <th>2011-09-14 00:00:00</th>\n",
              "      <td>5.58</td>\n",
              "      <td>5.72</td>\n",
              "      <td>5.52</td>\n",
              "      <td>5.52</td>\n",
              "      <td>59.108684</td>\n",
              "      <td>-0.046667</td>\n",
              "    </tr>\n",
              "    <tr>\n",
              "      <th>2011-09-14 12:00:00</th>\n",
              "      <td>5.52</td>\n",
              "      <td>5.53</td>\n",
              "      <td>5.52</td>\n",
              "      <td>5.53</td>\n",
              "      <td>2.037300</td>\n",
              "      <td>-0.033217</td>\n",
              "    </tr>\n",
              "    <tr>\n",
              "      <th>2011-09-15 00:00:00</th>\n",
              "      <td>5.12</td>\n",
              "      <td>5.12</td>\n",
              "      <td>5.00</td>\n",
              "      <td>5.00</td>\n",
              "      <td>50.546583</td>\n",
              "      <td>-0.074141</td>\n",
              "    </tr>\n",
              "    <tr>\n",
              "      <th>2011-09-15 12:00:00</th>\n",
              "      <td>5.21</td>\n",
              "      <td>5.24</td>\n",
              "      <td>5.13</td>\n",
              "      <td>5.13</td>\n",
              "      <td>29.594212</td>\n",
              "      <td>0.023438</td>\n",
              "    </tr>\n",
              "  </tbody>\n",
              "</table>\n",
              "</div>"
            ],
            "text/plain": [
              "                     open  high   low  close     volume   returns\n",
              "date                                                             \n",
              "2011-09-13 12:00:00  5.80  6.00  5.65   5.97  58.371382       NaN\n",
              "2011-09-14 00:00:00  5.58  5.72  5.52   5.52  59.108684 -0.046667\n",
              "2011-09-14 12:00:00  5.52  5.53  5.52   5.53   2.037300 -0.033217\n",
              "2011-09-15 00:00:00  5.12  5.12  5.00   5.00  50.546583 -0.074141\n",
              "2011-09-15 12:00:00  5.21  5.24  5.13   5.13  29.594212  0.023438"
            ]
          },
          "metadata": {
            "tags": []
          },
          "execution_count": 4
        }
      ]
    },
    {
      "cell_type": "markdown",
      "metadata": {
        "id": "6SD7LB_405Fm",
        "colab_type": "text"
      },
      "source": [
        "### Split data into training and validation sets"
      ]
    },
    {
      "cell_type": "code",
      "metadata": {
        "id": "D3KtmxmD05Fn",
        "colab_type": "code",
        "colab": {}
      },
      "source": [
        "N = data.shape[0]\n",
        "split_t = int(N * .70)                               # 70% Validation\n",
        "\n",
        "time_train = data.index[1:split_t]                   # skip to first value since it is NaN\n",
        "x_train = data['returns'][1:split_t].to_numpy()      # first  70%\n",
        "y_train = 100 * data['returns'][2:split_t + 1].to_numpy()  # first 70%\n",
        "time_valid = data.index[split_t:]\n",
        "x_valid = data['returns'][split_t:-1].to_numpy()     # last 30%\n",
        "y_valid = 100 * data['returns'][split_t + 1:].to_numpy()   # last 30%"
      ],
      "execution_count": 0,
      "outputs": []
    },
    {
      "cell_type": "code",
      "metadata": {
        "scrolled": true,
        "id": "CK1K_7BS05Fq",
        "colab_type": "code",
        "outputId": "fe96bceb-28f4-4147-d3cb-27a21145a851",
        "colab": {
          "base_uri": "https://localhost:8080/",
          "height": 282
        }
      },
      "source": [
        "plt.hist(y_train, 100)\n",
        "plt.xlim([-25, 25])"
      ],
      "execution_count": 0,
      "outputs": [
        {
          "output_type": "execute_result",
          "data": {
            "text/plain": [
              "(-25, 25)"
            ]
          },
          "metadata": {
            "tags": []
          },
          "execution_count": 150
        },
        {
          "output_type": "display_data",
          "data": {
            "image/png": "[encoded data removed]",
            "text/plain": [
              "<Figure size 432x288 with 1 Axes>"
            ]
          },
          "metadata": {
            "tags": []
          }
        }
      ]
    },
    {
      "cell_type": "markdown",
      "metadata": {
        "id": "Mgtg19yJ05Ft",
        "colab_type": "text"
      },
      "source": [
        "## Build a model"
      ]
    },
    {
      "cell_type": "code",
      "metadata": {
        "id": "-1dazjRL05Fu",
        "colab_type": "code",
        "colab": {}
      },
      "source": [
        "tf.keras.backend.clear_session()\n",
        "win_sz = 50\n",
        "batch_sz = 60\n",
        "\n",
        "train_data = windowed_dataset(x_train, y_train, win_sz, batch_sz, kind='regress')\n",
        "valid_data = windowed_dataset(x_valid, y_valid, win_sz, batch_sz, kind='regress')\n",
        "\n",
        "model = tf.keras.models.Sequential([\n",
        "    tf.keras.layers.Lambda(lambda x: tf.expand_dims(x, axis=-1), input_shape=[1]),\n",
        "    tf.keras.layers.Bidirectional(tf.keras.layers.LSTM(96, activation='relu', return_sequences= False)),\n",
        "    tf.keras.layers.Dense(1)])\n",
        "\n",
        "lr_schedule = tf.keras.callbacks.LearningRateScheduler(lambda epoch: 1e-8 * 10**(epoch/20))\n",
        "\n",
        "optimizer = tf.keras.optimizers.SGD(lr=1e-8, momentum=0.9)\n",
        "model.compile(loss=tf.keras.losses.Huber(),\n",
        "             optimizer='adam',\n",
        "             metrics=['mse'])"
      ],
      "execution_count": 0,
      "outputs": []
    },
    {
      "cell_type": "markdown",
      "metadata": {
        "id": "CcCttzns05Fw",
        "colab_type": "text"
      },
      "source": [
        "## Learning rate optimization"
      ]
    },
    {
      "cell_type": "code",
      "metadata": {
        "scrolled": true,
        "id": "2uK372hF05Fw",
        "colab_type": "code",
        "outputId": "bbe0e442-c360-433a-ae21-bd81871b1c95",
        "colab": {
          "base_uri": "https://localhost:8080/",
          "height": 714
        }
      },
      "source": [
        "history = model.fit(train_data, epochs=20, callbacks=[lr_schedule])\n",
        "np.save('lr_history.npy', history.history)"
      ],
      "execution_count": 0,
      "outputs": [
        {
          "output_type": "stream",
          "text": [
            "Train for 69 steps\n",
            "Epoch 1/20\n",
            "69/69 [==============================] - 11s 160ms/step - loss: 1.3725 - mse: 51.0917\n",
            "Epoch 2/20\n",
            "69/69 [==============================] - 9s 131ms/step - loss: 1.4975 - mse: 89.0999\n",
            "Epoch 3/20\n",
            "69/69 [==============================] - 9s 129ms/step - loss: 1.3792 - mse: 48.3066\n",
            "Epoch 4/20\n",
            "69/69 [==============================] - 9s 131ms/step - loss: 1.5105 - mse: 87.0024\n",
            "Epoch 5/20\n",
            "69/69 [==============================] - 9s 134ms/step - loss: 1.4327 - mse: 51.0952\n",
            "Epoch 6/20\n",
            "69/69 [==============================] - 9s 131ms/step - loss: 1.3278 - mse: 47.8507\n",
            "Epoch 7/20\n",
            "69/69 [==============================] - 9s 131ms/step - loss: 1.4728 - mse: 52.8358\n",
            "Epoch 8/20\n",
            "69/69 [==============================] - 9s 130ms/step - loss: 1.5075 - mse: 89.6240\n",
            "Epoch 9/20\n",
            "69/69 [==============================] - 9s 132ms/step - loss: 1.3906 - mse: 51.3883\n",
            "Epoch 10/20\n",
            "69/69 [==============================] - 9s 131ms/step - loss: 1.4811 - mse: 51.6919\n",
            "Epoch 11/20\n",
            "69/69 [==============================] - 9s 132ms/step - loss: 1.4704 - mse: 88.5247\n",
            "Epoch 12/20\n",
            "69/69 [==============================] - 9s 130ms/step - loss: 1.2784 - mse: 10.1094\n",
            "Epoch 13/20\n",
            "69/69 [==============================] - 9s 132ms/step - loss: 1.5591 - mse: 90.2361\n",
            "Epoch 14/20\n",
            "69/69 [==============================] - 9s 129ms/step - loss: 1.3399 - mse: 49.8705\n",
            "Epoch 15/20\n",
            "69/69 [==============================] - 9s 132ms/step - loss: 1.3144 - mse: 10.3395\n",
            "Epoch 16/20\n",
            "69/69 [==============================] - 9s 131ms/step - loss: 1.4187 - mse: 49.0637\n",
            "Epoch 17/20\n",
            "69/69 [==============================] - 9s 131ms/step - loss: 1.4644 - mse: 54.1768\n",
            "Epoch 18/20\n",
            "69/69 [==============================] - 9s 131ms/step - loss: 1.3104 - mse: 46.8841\n",
            "Epoch 19/20\n",
            "69/69 [==============================] - 9s 132ms/step - loss: 1.5292 - mse: 89.0469\n",
            "Epoch 20/20\n",
            "69/69 [==============================] - 9s 130ms/step - loss: 1.3300 - mse: 11.2717\n"
          ],
          "name": "stdout"
        }
      ]
    },
    {
      "cell_type": "markdown",
      "metadata": {
        "id": "2yJo6lEX05Fy",
        "colab_type": "text"
      },
      "source": [
        "### Plot the loss as a function of learning rate"
      ]
    },
    {
      "cell_type": "code",
      "metadata": {
        "id": "WJsCmGax05Fz",
        "colab_type": "code",
        "outputId": "0d07c1e5-563b-4b00-d4f7-e7fe586ccebe",
        "colab": {
          "base_uri": "https://localhost:8080/",
          "height": 445
        }
      },
      "source": [
        "history = np.load('lr_history.npy', allow_pickle=True).item()\n",
        "learning_rates = history['lr']\n",
        "loss = history['loss']\n",
        "\n",
        "fig = plt.figure(figsize=[16,6])\n",
        "ax = fig.add_subplot(121)\n",
        "ax.semilogx(learning_rates, loss)\n",
        "# get index of lowest loss\n",
        "minloss_i = np.argmin(loss)\n",
        "# get the learning rate at that index\n",
        "min_lr = learning_rates[minloss_i]\n",
        "# plot best learing rate, and add value to label\n",
        "ax.plot([min_lr, min_lr], ax.get_ylim(), 'r', label='best lr: {:.5E}'.format(min_lr))\n",
        "\n",
        "\n",
        "ax = fig.add_subplot(122)\n",
        "ax.semilogx(learning_rates, loss)\n",
        "# ax.set_ylim([0, 1e-4])\n",
        "ax.set_xlim([learning_rates[0], 1e-5])\n",
        "ylim = ax.get_ylim()\n",
        "ax.set_ylim([ylim[0]*1.000025, ylim[-1]*.99933])\n",
        "# get index of lowest loss\n",
        "minloss_i = np.argmin(loss)\n",
        "# get the learning rate at that index\n",
        "best_lr = learning_rates[minloss_i]\n",
        "# plot best learing rate, and add value to label\n",
        "ax.plot([best_lr, best_lr], ax.get_ylim(), 'r', label='best lr: {:.5E}'.format(best_lr))\n",
        "# Print the best learning rate\n",
        "print('best learning rate:', best_lr)\n",
        "ax.set_xlabel('learning rate')\n",
        "ax.set_ylabel('loss')\n",
        "ax.set_title('Loss as a function of learning rate')\n",
        "ax.legend()\n",
        "fig.savefig('loss_lr.png')"
      ],
      "execution_count": 0,
      "outputs": [
        {
          "output_type": "stream",
          "text": [
            "best learning rate: 3.548134e-08\n"
          ],
          "name": "stdout"
        },
        {
          "output_type": "display_data",
          "data": {
            "image/png": "[encoded data removed]",
            "text/plain": [
              "<Figure size 1152x432 with 2 Axes>"
            ]
          },
          "metadata": {
            "tags": []
          }
        }
      ]
    },
    {
      "cell_type": "markdown",
      "metadata": {
        "id": "NZnSE4_e05F0",
        "colab_type": "text"
      },
      "source": [
        "## Train with the best learning rate"
      ]
    },
    {
      "cell_type": "code",
      "metadata": {
        "id": "SaCx5SGd05F1",
        "colab_type": "code",
        "outputId": "728ef2a9-242f-469a-9932-a29bd89a50a4",
        "colab": {
          "base_uri": "https://localhost:8080/",
          "height": 1000
        }
      },
      "source": [
        "tf.keras.backend.clear_session()\n",
        "# best_lr = 7.079458e-07 (Hjalmar's 2layer NN);\n",
        "epochs = 100\n",
        "\n",
        "model = tf.keras.models.Sequential([\n",
        "  tf.keras.layers.Lambda(lambda x: tf.expand_dims(x, axis=-1), input_shape=[1]),\n",
        "  tf.keras.layers.Bidirectional(tf.keras.layers.LSTM(96, activation='relu', return_sequences= False)),\n",
        "  tf.keras.layers.Dense(1)])\n",
        "\n",
        "     \n",
        "\n",
        "optimizer = tf.keras.optimizers.SGD(lr=best_lr, momentum=0.9)\n",
        "loss = tf.keras.losses.MeanSquaredError()\n",
        "model.compile(loss=loss, optimizer='adam', metrics=[\"mse\"])\n",
        "history = model.fit(train_data, epochs=epochs, validation_data=valid_data)\n",
        "\n",
        "# save the trained model\n",
        "model.save('BidirLSTM_96Gold_epochs%d.h5' % epochs)\n",
        "# save the history\n",
        "np.save('BidirLSTM_96Gold_epochs%d.npy' % epochs, history.history)"
      ],
      "execution_count": 0,
      "outputs": [
        {
          "output_type": "stream",
          "text": [
            "Train for 69 steps, validate for 29 steps\n",
            "Epoch 1/100\n",
            "69/69 [==============================] - 13s 184ms/step - loss: 11.4798 - mse: 11.4798 - val_loss: 6.9206 - val_mse: 6.9206\n",
            "Epoch 2/100\n",
            "69/69 [==============================] - 10s 144ms/step - loss: 49.1107 - mse: 49.1107 - val_loss: 7.1857 - val_mse: 7.1857\n",
            "Epoch 3/100\n",
            "69/69 [==============================] - 10s 142ms/step - loss: 50.1431 - mse: 50.1431 - val_loss: 7.0524 - val_mse: 7.0524\n",
            "Epoch 4/100\n",
            "69/69 [==============================] - 10s 143ms/step - loss: 51.1308 - mse: 51.1308 - val_loss: 7.7833 - val_mse: 7.7833\n",
            "Epoch 5/100\n",
            "69/69 [==============================] - 10s 142ms/step - loss: 11.3072 - mse: 11.3072 - val_loss: 7.0559 - val_mse: 7.0559\n",
            "Epoch 6/100\n",
            "69/69 [==============================] - 10s 145ms/step - loss: 272.0002 - mse: 272.0002 - val_loss: 7.8619 - val_mse: 7.8619\n",
            "Epoch 7/100\n",
            "69/69 [==============================] - 10s 147ms/step - loss: 86.2940 - mse: 86.2940 - val_loss: 8.0659 - val_mse: 8.0659\n",
            "Epoch 8/100\n",
            "69/69 [==============================] - 10s 145ms/step - loss: 12.4338 - mse: 12.4338 - val_loss: 7.8659 - val_mse: 7.8659\n",
            "Epoch 9/100\n",
            "69/69 [==============================] - 10s 146ms/step - loss: 87.9428 - mse: 87.9428 - val_loss: 8.2592 - val_mse: 8.2592\n",
            "Epoch 10/100\n",
            "69/69 [==============================] - 10s 146ms/step - loss: 88.3714 - mse: 88.3714 - val_loss: 7.2297 - val_mse: 7.2297\n",
            "Epoch 11/100\n",
            "69/69 [==============================] - 10s 144ms/step - loss: 11.4211 - mse: 11.4211 - val_loss: 7.0964 - val_mse: 7.0964\n",
            "Epoch 12/100\n",
            "69/69 [==============================] - 10s 147ms/step - loss: 90.7057 - mse: 90.7057 - val_loss: 7.5597 - val_mse: 7.5597\n",
            "Epoch 13/100\n",
            "69/69 [==============================] - 10s 146ms/step - loss: 50.9267 - mse: 50.9267 - val_loss: 7.9551 - val_mse: 7.9551\n",
            "Epoch 14/100\n",
            "69/69 [==============================] - 10s 149ms/step - loss: 47.1853 - mse: 47.1853 - val_loss: 7.3201 - val_mse: 7.3201\n",
            "Epoch 15/100\n",
            "69/69 [==============================] - 10s 143ms/step - loss: 87.6873 - mse: 87.6873 - val_loss: 8.2789 - val_mse: 8.2789\n",
            "Epoch 16/100\n",
            "69/69 [==============================] - 10s 145ms/step - loss: 9.5170 - mse: 9.5170 - val_loss: 7.5321 - val_mse: 7.5321\n",
            "Epoch 17/100\n",
            "69/69 [==============================] - 10s 144ms/step - loss: 51.1364 - mse: 51.1364 - val_loss: 7.1446 - val_mse: 7.1446\n",
            "Epoch 18/100\n",
            "69/69 [==============================] - 10s 145ms/step - loss: 89.0672 - mse: 89.0672 - val_loss: 7.9278 - val_mse: 7.9278\n",
            "Epoch 19/100\n",
            "69/69 [==============================] - 10s 145ms/step - loss: 90.6138 - mse: 90.6138 - val_loss: 7.8092 - val_mse: 7.8092\n",
            "Epoch 20/100\n",
            "69/69 [==============================] - 10s 144ms/step - loss: 11.3933 - mse: 11.3933 - val_loss: 7.5446 - val_mse: 7.5446\n",
            "Epoch 21/100\n",
            "69/69 [==============================] - 10s 144ms/step - loss: 125.7380 - mse: 125.7380 - val_loss: 7.9359 - val_mse: 7.9359\n",
            "Epoch 22/100\n",
            "69/69 [==============================] - 10s 145ms/step - loss: 50.2197 - mse: 50.2197 - val_loss: 7.7511 - val_mse: 7.7511\n",
            "Epoch 23/100\n",
            "69/69 [==============================] - 10s 146ms/step - loss: 90.2476 - mse: 90.2476 - val_loss: 8.3428 - val_mse: 8.3428\n",
            "Epoch 24/100\n",
            "69/69 [==============================] - 10s 144ms/step - loss: 10.9006 - mse: 10.9006 - val_loss: 8.2687 - val_mse: 8.2687\n",
            "Epoch 25/100\n",
            "69/69 [==============================] - 10s 144ms/step - loss: 50.0582 - mse: 50.0582 - val_loss: 7.7266 - val_mse: 7.7266\n",
            "Epoch 26/100\n",
            "69/69 [==============================] - 10s 143ms/step - loss: 91.8875 - mse: 91.8875 - val_loss: 7.4434 - val_mse: 7.4434\n",
            "Epoch 27/100\n",
            "69/69 [==============================] - 10s 143ms/step - loss: 10.9625 - mse: 10.9625 - val_loss: 7.4899 - val_mse: 7.4899\n",
            "Epoch 28/100\n",
            "69/69 [==============================] - 10s 145ms/step - loss: 12.3657 - mse: 12.3657 - val_loss: 7.0949 - val_mse: 7.0949\n",
            "Epoch 29/100\n",
            "69/69 [==============================] - 10s 144ms/step - loss: 11.5630 - mse: 11.5630 - val_loss: 7.5380 - val_mse: 7.5380\n",
            "Epoch 30/100\n",
            "69/69 [==============================] - 10s 143ms/step - loss: 9.7455 - mse: 9.7456 - val_loss: 7.2410 - val_mse: 7.2410\n",
            "Epoch 31/100\n",
            "69/69 [==============================] - 10s 144ms/step - loss: 127.4300 - mse: 127.4300 - val_loss: 7.6419 - val_mse: 7.6419\n",
            "Epoch 32/100\n",
            "69/69 [==============================] - 10s 145ms/step - loss: 87.8554 - mse: 87.8554 - val_loss: 6.9843 - val_mse: 6.9843\n",
            "Epoch 33/100\n",
            "69/69 [==============================] - 10s 144ms/step - loss: 50.8082 - mse: 50.8082 - val_loss: 7.4546 - val_mse: 7.4546\n",
            "Epoch 34/100\n",
            "69/69 [==============================] - 10s 144ms/step - loss: 50.1086 - mse: 50.1086 - val_loss: 8.0363 - val_mse: 8.0363\n",
            "Epoch 35/100\n",
            "69/69 [==============================] - 10s 145ms/step - loss: 53.5658 - mse: 53.5658 - val_loss: 7.0213 - val_mse: 7.0213\n",
            "Epoch 36/100\n",
            "69/69 [==============================] - 10s 142ms/step - loss: 90.6243 - mse: 90.6243 - val_loss: 7.4742 - val_mse: 7.4742\n",
            "Epoch 37/100\n",
            "69/69 [==============================] - 10s 144ms/step - loss: 128.7179 - mse: 128.7179 - val_loss: 7.0666 - val_mse: 7.0666\n",
            "Epoch 38/100\n",
            "69/69 [==============================] - 10s 144ms/step - loss: 125.4415 - mse: 125.4415 - val_loss: 7.5257 - val_mse: 7.5257\n",
            "Epoch 39/100\n",
            "69/69 [==============================] - 10s 143ms/step - loss: 54.0235 - mse: 54.0234 - val_loss: 8.2177 - val_mse: 8.2177\n",
            "Epoch 40/100\n",
            "69/69 [==============================] - 10s 145ms/step - loss: 47.6199 - mse: 47.6199 - val_loss: 8.2058 - val_mse: 8.2058\n",
            "Epoch 41/100\n",
            "69/69 [==============================] - 10s 143ms/step - loss: 87.8698 - mse: 87.8698 - val_loss: 7.2679 - val_mse: 7.2679\n",
            "Epoch 42/100\n",
            "69/69 [==============================] - 10s 144ms/step - loss: 54.1570 - mse: 54.1570 - val_loss: 7.8264 - val_mse: 7.8264\n",
            "Epoch 43/100\n",
            "69/69 [==============================] - 10s 143ms/step - loss: 51.4716 - mse: 51.4716 - val_loss: 7.2520 - val_mse: 7.2520\n",
            "Epoch 44/100\n",
            "69/69 [==============================] - 10s 147ms/step - loss: 52.0682 - mse: 52.0682 - val_loss: 7.9085 - val_mse: 7.9085\n",
            "Epoch 45/100\n",
            "69/69 [==============================] - 10s 143ms/step - loss: 11.6040 - mse: 11.6040 - val_loss: 7.2034 - val_mse: 7.2034\n",
            "Epoch 46/100\n",
            "69/69 [==============================] - 10s 143ms/step - loss: 50.2449 - mse: 50.2449 - val_loss: 7.5427 - val_mse: 7.5427\n",
            "Epoch 47/100\n",
            "69/69 [==============================] - 10s 143ms/step - loss: 49.7967 - mse: 49.7967 - val_loss: 8.0400 - val_mse: 8.0400\n",
            "Epoch 48/100\n",
            "69/69 [==============================] - 10s 142ms/step - loss: 12.4680 - mse: 12.4680 - val_loss: 7.4671 - val_mse: 7.4671\n",
            "Epoch 49/100\n",
            "69/69 [==============================] - 10s 143ms/step - loss: 48.3571 - mse: 48.3571 - val_loss: 7.5685 - val_mse: 7.5685\n",
            "Epoch 50/100\n",
            "69/69 [==============================] - 10s 142ms/step - loss: 12.3682 - mse: 12.3682 - val_loss: 7.1057 - val_mse: 7.1057\n",
            "Epoch 51/100\n",
            "69/69 [==============================] - 10s 142ms/step - loss: 52.6999 - mse: 52.6999 - val_loss: 7.1862 - val_mse: 7.1862\n",
            "Epoch 52/100\n",
            "69/69 [==============================] - 10s 142ms/step - loss: 49.8631 - mse: 49.8631 - val_loss: 7.9900 - val_mse: 7.9900\n",
            "Epoch 53/100\n",
            "69/69 [==============================] - 10s 142ms/step - loss: 89.2885 - mse: 89.2884 - val_loss: 8.3434 - val_mse: 8.3434\n",
            "Epoch 54/100\n",
            "69/69 [==============================] - 10s 143ms/step - loss: 90.8632 - mse: 90.8632 - val_loss: 7.3777 - val_mse: 7.3777\n",
            "Epoch 55/100\n",
            "69/69 [==============================] - 10s 143ms/step - loss: 49.0722 - mse: 49.0722 - val_loss: 7.8433 - val_mse: 7.8433\n",
            "Epoch 56/100\n",
            "69/69 [==============================] - 10s 143ms/step - loss: 9.8031 - mse: 9.8031 - val_loss: 7.8481 - val_mse: 7.8481\n",
            "Epoch 57/100\n",
            "69/69 [==============================] - 10s 144ms/step - loss: 48.7082 - mse: 48.7082 - val_loss: 7.7687 - val_mse: 7.7687\n",
            "Epoch 58/100\n",
            "69/69 [==============================] - 10s 145ms/step - loss: 50.2629 - mse: 50.2629 - val_loss: 7.6622 - val_mse: 7.6622\n",
            "Epoch 59/100\n",
            "69/69 [==============================] - 10s 143ms/step - loss: 89.2120 - mse: 89.2120 - val_loss: 8.1412 - val_mse: 8.1412\n",
            "Epoch 60/100\n",
            "69/69 [==============================] - 10s 144ms/step - loss: 48.6964 - mse: 48.6964 - val_loss: 7.9639 - val_mse: 7.9639\n",
            "Epoch 61/100\n",
            "69/69 [==============================] - 10s 143ms/step - loss: 51.9080 - mse: 51.9080 - val_loss: 7.2305 - val_mse: 7.2305\n",
            "Epoch 62/100\n",
            "69/69 [==============================] - 10s 143ms/step - loss: 49.9273 - mse: 49.9273 - val_loss: 7.4267 - val_mse: 7.4267\n",
            "Epoch 63/100\n",
            "69/69 [==============================] - 10s 143ms/step - loss: 13.4551 - mse: 13.4551 - val_loss: 7.4892 - val_mse: 7.4892\n",
            "Epoch 64/100\n",
            "69/69 [==============================] - 10s 144ms/step - loss: 51.1097 - mse: 51.1097 - val_loss: 7.0142 - val_mse: 7.0142\n",
            "Epoch 65/100\n",
            "69/69 [==============================] - 10s 143ms/step - loss: 51.1185 - mse: 51.1185 - val_loss: 7.8806 - val_mse: 7.8806\n",
            "Epoch 66/100\n",
            "69/69 [==============================] - 10s 143ms/step - loss: 50.9663 - mse: 50.9664 - val_loss: 8.3353 - val_mse: 8.3353\n",
            "Epoch 67/100\n",
            "69/69 [==============================] - 10s 144ms/step - loss: 49.9052 - mse: 49.9052 - val_loss: 7.0931 - val_mse: 7.0931\n",
            "Epoch 68/100\n",
            "69/69 [==============================] - 10s 144ms/step - loss: 127.4179 - mse: 127.4178 - val_loss: 8.2081 - val_mse: 8.2081\n",
            "Epoch 69/100\n",
            "69/69 [==============================] - 10s 144ms/step - loss: 11.2250 - mse: 11.2250 - val_loss: 7.6775 - val_mse: 7.6775\n",
            "Epoch 70/100\n",
            "69/69 [==============================] - 10s 144ms/step - loss: 24.1765 - mse: 24.1765 - val_loss: 7.4645 - val_mse: 7.4645\n",
            "Epoch 71/100\n",
            "69/69 [==============================] - 10s 147ms/step - loss: 125.2182 - mse: 125.2182 - val_loss: 7.1807 - val_mse: 7.1807\n",
            "Epoch 72/100\n",
            "69/69 [==============================] - 10s 144ms/step - loss: 88.1404 - mse: 88.1404 - val_loss: 6.8224 - val_mse: 6.8224\n",
            "Epoch 73/100\n",
            "69/69 [==============================] - 10s 145ms/step - loss: 48.3654 - mse: 48.3655 - val_loss: 7.8663 - val_mse: 7.8663\n",
            "Epoch 74/100\n",
            "69/69 [==============================] - 10s 142ms/step - loss: 11.6433 - mse: 11.6433 - val_loss: 8.0125 - val_mse: 8.0125\n",
            "Epoch 75/100\n",
            "69/69 [==============================] - 10s 146ms/step - loss: 11.9383 - mse: 11.9383 - val_loss: 8.7573 - val_mse: 8.7573\n",
            "Epoch 76/100\n",
            "69/69 [==============================] - 10s 146ms/step - loss: 50.3524 - mse: 50.3524 - val_loss: 7.2880 - val_mse: 7.2880\n",
            "Epoch 77/100\n",
            "69/69 [==============================] - 10s 146ms/step - loss: 8.7607 - mse: 8.7607 - val_loss: 7.2501 - val_mse: 7.2501\n",
            "Epoch 78/100\n",
            "69/69 [==============================] - 10s 141ms/step - loss: 53.5397 - mse: 53.5397 - val_loss: 7.8064 - val_mse: 7.8064\n",
            "Epoch 79/100\n",
            "69/69 [==============================] - 10s 145ms/step - loss: 12.5505 - mse: 12.5505 - val_loss: 7.3547 - val_mse: 7.3547\n",
            "Epoch 80/100\n",
            "69/69 [==============================] - 10s 144ms/step - loss: 50.6500 - mse: 50.6500 - val_loss: 8.6107 - val_mse: 8.6107\n",
            "Epoch 81/100\n",
            "69/69 [==============================] - 10s 145ms/step - loss: 88.7167 - mse: 88.7167 - val_loss: 7.1484 - val_mse: 7.1484\n",
            "Epoch 82/100\n",
            "69/69 [==============================] - 10s 145ms/step - loss: 13.1580 - mse: 13.1580 - val_loss: 7.8545 - val_mse: 7.8545\n",
            "Epoch 83/100\n",
            "69/69 [==============================] - 10s 146ms/step - loss: 50.1789 - mse: 50.1789 - val_loss: 8.5707 - val_mse: 8.5707\n",
            "Epoch 84/100\n",
            "69/69 [==============================] - 10s 144ms/step - loss: 87.7960 - mse: 87.7960 - val_loss: 6.5282 - val_mse: 6.5282\n",
            "Epoch 85/100\n",
            "69/69 [==============================] - 10s 143ms/step - loss: 50.6962 - mse: 50.6962 - val_loss: 8.1925 - val_mse: 8.1925\n",
            "Epoch 86/100\n",
            "69/69 [==============================] - 10s 146ms/step - loss: 127.9423 - mse: 127.9423 - val_loss: 7.2129 - val_mse: 7.2129\n",
            "Epoch 87/100\n",
            "69/69 [==============================] - 10s 144ms/step - loss: 88.3777 - mse: 88.3777 - val_loss: 7.5785 - val_mse: 7.5785\n",
            "Epoch 88/100\n",
            "69/69 [==============================] - 10s 144ms/step - loss: 88.2149 - mse: 88.2149 - val_loss: 7.2807 - val_mse: 7.2807\n",
            "Epoch 89/100\n",
            "69/69 [==============================] - 10s 143ms/step - loss: 9.9761 - mse: 9.9761 - val_loss: 7.3013 - val_mse: 7.3013\n",
            "Epoch 90/100\n",
            "69/69 [==============================] - 10s 141ms/step - loss: 9.9428 - mse: 9.9428 - val_loss: 7.3504 - val_mse: 7.3504\n",
            "Epoch 91/100\n",
            "69/69 [==============================] - 10s 144ms/step - loss: 12.5726 - mse: 12.5726 - val_loss: 6.9684 - val_mse: 6.9684\n",
            "Epoch 92/100\n",
            "69/69 [==============================] - 10s 145ms/step - loss: 52.6289 - mse: 52.6289 - val_loss: 7.4812 - val_mse: 7.4812\n",
            "Epoch 93/100\n",
            "69/69 [==============================] - 10s 145ms/step - loss: 51.5204 - mse: 51.5204 - val_loss: 7.6850 - val_mse: 7.6850\n",
            "Epoch 94/100\n",
            "69/69 [==============================] - 10s 144ms/step - loss: 51.8898 - mse: 51.8898 - val_loss: 7.1195 - val_mse: 7.1195\n",
            "Epoch 95/100\n",
            "69/69 [==============================] - 10s 142ms/step - loss: 9.9347 - mse: 9.9347 - val_loss: 8.1573 - val_mse: 8.1573\n",
            "Epoch 96/100\n",
            "69/69 [==============================] - 10s 142ms/step - loss: 13.7945 - mse: 13.7945 - val_loss: 7.2504 - val_mse: 7.2504\n",
            "Epoch 97/100\n",
            "69/69 [==============================] - 10s 147ms/step - loss: 131.1533 - mse: 131.1533 - val_loss: 6.9590 - val_mse: 6.9590\n",
            "Epoch 98/100\n",
            "69/69 [==============================] - 10s 145ms/step - loss: 12.3736 - mse: 12.3736 - val_loss: 7.3967 - val_mse: 7.3967\n",
            "Epoch 99/100\n",
            "69/69 [==============================] - 10s 144ms/step - loss: 89.3477 - mse: 89.3477 - val_loss: 7.6344 - val_mse: 7.6344\n",
            "Epoch 100/100\n",
            "69/69 [==============================] - 10s 146ms/step - loss: 87.8841 - mse: 87.8841 - val_loss: 8.7122 - val_mse: 8.7122\n"
          ],
          "name": "stdout"
        }
      ]
    },
    {
      "cell_type": "code",
      "metadata": {
        "id": "ecLHYCmi05F3",
        "colab_type": "code",
        "colab": {}
      },
      "source": [
        "# Load a saved model\n",
        "model = tf.keras.models.load_model('BidirLSTM_96Gold_epochs%d.h5' % epochs)"
      ],
      "execution_count": 0,
      "outputs": []
    },
    {
      "cell_type": "markdown",
      "metadata": {
        "id": "WrI4N8ho05F4",
        "colab_type": "text"
      },
      "source": [
        "## Evaluate forecast performance\n",
        "\n",
        "### Relationship between forecast and x_valid\n",
        "<img src=\"forecast_illustration.png\" style=\"width:850px;\"/>\n",
        "\n",
        "In code:\n",
        "\n",
        "```python\n",
        "    x_valid[1:]\n",
        "    forecast[:-1]\n",
        "```\n",
        "\n",
        "### Evaluation\n",
        "\n",
        "* Comparing with a naive/mean forecast\n",
        "* Plot for visual inspection\n",
        "* Accuracy of direction (i.e. the sign of forecast correct)"
      ]
    },
    {
      "cell_type": "code",
      "metadata": {
        "id": "Rei0-qr405F5",
        "colab_type": "code",
        "outputId": "ab7209f3-8640-4cf9-9ef3-eb8f8b1be761",
        "colab": {
          "base_uri": "https://localhost:8080/",
          "height": 660
        }
      },
      "source": [
        "forecast = model.predict(x_valid)\n",
        "mean_forecast = np.ones(x_valid[win_sz:].shape) * x_valid.mean()\n",
        "rnn_mse = mean_squared_error(x_valid[win_sz+1:], forecast[win_sz:-1].flatten())\n",
        "meanforecast_mse = mean_squared_error(x_valid[win_sz:], mean_forecast)\n",
        "print('LSTM validation MSE: %.6f, mean forecast: %.6f' % (rnn_mse, meanforecast_mse))\n",
        "\n",
        "\n",
        "fig = plt.figure(figsize=[14,10])\n",
        "ax = fig.add_subplot(211)\n",
        "ax.plot(x_valid[win_sz+1:], '.-', color=[.8]*3, mfc='k', mec='k', label='x_valid')\n",
        "ax.plot(forecast[win_sz:-1].flatten(), '.-', color=[.8, .6, .6], mfc='r', mec='r', label='forecast')\n",
        "ax.legend()\n",
        "ax.set_ylabel('Percent change')\n",
        "\n",
        "ax = fig.add_subplot(212)\n",
        "ax.plot(x_valid[win_sz+40001:], '.-', color=[.8]*3, mfc='k', mec='k', label='x_valid')\n",
        "ax.plot(forecast[win_sz+40000:-1].flatten(), '.-', color=[.8, .6, .6], mfc='r', mec='r', label='forecast')\n",
        "ax.set_ylim([-.005, 0.005])\n",
        "ax.legend()\n",
        "ax.set_xlabel('time step (index)')\n",
        "ax.set_ylabel('Percent change')"
      ],
      "execution_count": 0,
      "outputs": [
        {
          "output_type": "stream",
          "text": [
            "LSTM validation MSE: 0.019669, mean forecast: 0.000757\n"
          ],
          "name": "stdout"
        },
        {
          "output_type": "execute_result",
          "data": {
            "text/plain": [
              "Text(0, 0.5, 'Percent change')"
            ]
          },
          "metadata": {
            "tags": []
          },
          "execution_count": 15
        },
        {
          "output_type": "display_data",
          "data": {
            "image/png": "[encoded data removed]",
            "text/plain": [
              "<Figure size 1008x720 with 2 Axes>"
            ]
          },
          "metadata": {
            "tags": []
          }
        }
      ]
    },
    {
      "cell_type": "code",
      "metadata": {
        "id": "TY5nrGv005F7",
        "colab_type": "code",
        "outputId": "624477ff-854b-4141-d8b7-90be947274ed",
        "colab": {
          "base_uri": "https://localhost:8080/",
          "height": 51
        }
      },
      "source": [
        "y_true = x_valid[win_sz+1:] > 0\n",
        "y_hat = forecast[win_sz:-1].flatten() > 0\n",
        "acc = 100 * (y_true == y_hat).sum() / len(y_true)\n",
        "chance = max(y_true.mean(), 1 - y_true.mean()) * 100             \n",
        "print('Forecasting direction of change\\n\\tAccuracy: %1.3f%% (chance: %1.3f%%)' % (acc, chance))"
      ],
      "execution_count": 0,
      "outputs": [
        {
          "output_type": "stream",
          "text": [
            "Forecasting direction of change\n",
            "\tAccuracy: 46.987% (chance: 53.013%)\n"
          ],
          "name": "stdout"
        }
      ]
    },
    {
      "cell_type": "markdown",
      "metadata": {
        "id": "PoCtNFKF05F8",
        "colab_type": "text"
      },
      "source": [
        "## Check how many epochs are required to minimize the loss"
      ]
    },
    {
      "cell_type": "code",
      "metadata": {
        "id": "lFT48gf005F9",
        "colab_type": "code",
        "colab": {}
      },
      "source": [
        "# load history saved from training\n",
        "history = np.load('BidirLSTM_96Gold_epochs%d.npy' % epochs, allow_pickle=True).item()"
      ],
      "execution_count": 0,
      "outputs": []
    },
    {
      "cell_type": "code",
      "metadata": {
        "id": "w7BV8a1K05F-",
        "colab_type": "code",
        "outputId": "804dba7a-d69b-4a66-cdd9-efe80fadf1e8",
        "colab": {
          "base_uri": "https://localhost:8080/",
          "height": 34
        }
      },
      "source": [
        "history.keys()"
      ],
      "execution_count": 0,
      "outputs": [
        {
          "output_type": "execute_result",
          "data": {
            "text/plain": [
              "dict_keys(['loss', 'mse', 'val_loss', 'val_mse'])"
            ]
          },
          "metadata": {
            "tags": []
          },
          "execution_count": 18
        }
      ]
    },
    {
      "cell_type": "code",
      "metadata": {
        "scrolled": false,
        "id": "CzzD1vmM05GA",
        "colab_type": "code",
        "outputId": "ab8266dc-a0a9-403a-bcb0-f9c93b778ab8",
        "colab": {
          "base_uri": "https://localhost:8080/",
          "height": 429
        }
      },
      "source": [
        "fig = plt.figure(figsize=[16, 6])\n",
        "ax = fig.add_subplot(121)\n",
        "ax.plot(history['loss'], label='training loss')\n",
        "ax.plot(history['val_loss'], label='validation loss')\n",
        "ax.set_xlabel('epoch')\n",
        "ax.legend()\n",
        "\n",
        "ax = fig.add_subplot(122)\n",
        "ax.plot(history['loss'], label='training loss')\n",
        "ax.plot(history['val_loss'], label='validation loss')\n",
        "# ax.set_ylim([7.2193185e-06, 7.219321e-06])\n",
        "ax.set_ylim([0.00003, 0.000032])\n",
        "ax.set_ylabel('loss')\n",
        "ax.set_xlabel('epoch')\n",
        "ax.legend()"
      ],
      "execution_count": 0,
      "outputs": [
        {
          "output_type": "execute_result",
          "data": {
            "text/plain": [
              "<matplotlib.legend.Legend at 0x7f8b27afdc50>"
            ]
          },
          "metadata": {
            "tags": []
          },
          "execution_count": 19
        },
        {
          "output_type": "display_data",
          "data": {
            "image/png": "[encoded data removed]",
            "text/plain": [
              "<Figure size 1152x432 with 2 Axes>"
            ]
          },
          "metadata": {
            "tags": []
          }
        }
      ]
    },
    {
      "cell_type": "markdown",
      "metadata": {
        "id": "bjyUogS_05GG",
        "colab_type": "text"
      },
      "source": [
        "## Testing data\n",
        "\n",
        "The training and validation data have been from Bitstamp and the last sample is from 2019-10-23.\n",
        "For testing we can get the latest data from Binance, the exchange where we will trade.\n",
        "\n",
        "### Helper function to download data from Binance\n",
        "See ```helper.py``` for that and more helper functions.\n",
        "\n",
        "For backtesting with Gemini, the data needs to be in a Pandas DataFrame with, at least, the following columns:\n",
        "```'high', 'low', 'open', 'close', 'volume'```"
      ]
    },
    {
      "cell_type": "code",
      "metadata": {
        "id": "zzAs4O2O7-_L",
        "colab_type": "code",
        "colab": {}
      },
      "source": [
        "from datetime import datetime\n",
        "from datetime import timezone\n",
        "import helper"
      ],
      "execution_count": 0,
      "outputs": []
    },
    {
      "cell_type": "code",
      "metadata": {
        "scrolled": true,
        "id": "3hZXI9Q505GJ",
        "colab_type": "code",
        "outputId": "aa8bafef-3fdd-4108-a1d5-cb9f72e12016",
        "colab": {
          "base_uri": "https://localhost:8080/",
          "height": 34
        }
      },
      "source": [
        "klines = helper.get_klines(start_t=[2018, 9, 1, 0, 0, 0], interval='12h')"
      ],
      "execution_count": 0,
      "outputs": [
        {
          "output_type": "stream",
          "text": [
            "2019-11-19 23:59\n"
          ],
          "name": "stdout"
        }
      ]
    },
    {
      "cell_type": "code",
      "metadata": {
        "scrolled": true,
        "id": "Bs2ACbZU05GK",
        "colab_type": "code",
        "outputId": "a0427b66-87f4-4d12-83ed-321667d163d6",
        "colab": {
          "base_uri": "https://localhost:8080/",
          "height": 340
        }
      },
      "source": [
        "klines.head()"
      ],
      "execution_count": 0,
      "outputs": [
        {
          "output_type": "execute_result",
          "data": {
            "text/html": [
              "<div>\n",
              "<style scoped>\n",
              "    .dataframe tbody tr th:only-of-type {\n",
              "        vertical-align: middle;\n",
              "    }\n",
              "\n",
              "    .dataframe tbody tr th {\n",
              "        vertical-align: top;\n",
              "    }\n",
              "\n",
              "    .dataframe thead th {\n",
              "        text-align: right;\n",
              "    }\n",
              "</style>\n",
              "<table border=\"1\" class=\"dataframe\">\n",
              "  <thead>\n",
              "    <tr style=\"text-align: right;\">\n",
              "      <th></th>\n",
              "      <th>open_ts</th>\n",
              "      <th>open</th>\n",
              "      <th>high</th>\n",
              "      <th>low</th>\n",
              "      <th>close</th>\n",
              "      <th>volume</th>\n",
              "      <th>close_ts</th>\n",
              "      <th>returns</th>\n",
              "    </tr>\n",
              "    <tr>\n",
              "      <th>date</th>\n",
              "      <th></th>\n",
              "      <th></th>\n",
              "      <th></th>\n",
              "      <th></th>\n",
              "      <th></th>\n",
              "      <th></th>\n",
              "      <th></th>\n",
              "      <th></th>\n",
              "    </tr>\n",
              "  </thead>\n",
              "  <tbody>\n",
              "    <tr>\n",
              "      <th>2018-09-01 11:59:59.999000+00:00</th>\n",
              "      <td>1.535760e+12</td>\n",
              "      <td>7011.21</td>\n",
              "      <td>7113.62</td>\n",
              "      <td>7008.74</td>\n",
              "      <td>7069.01</td>\n",
              "      <td>15171.335257</td>\n",
              "      <td>1.535803e+12</td>\n",
              "      <td>NaN</td>\n",
              "    </tr>\n",
              "    <tr>\n",
              "      <th>2018-09-01 23:59:59.999000+00:00</th>\n",
              "      <td>1.535803e+12</td>\n",
              "      <td>7069.34</td>\n",
              "      <td>7275.00</td>\n",
              "      <td>7031.00</td>\n",
              "      <td>7200.01</td>\n",
              "      <td>25152.078836</td>\n",
              "      <td>1.535846e+12</td>\n",
              "      <td>0.022686</td>\n",
              "    </tr>\n",
              "    <tr>\n",
              "      <th>2018-09-02 11:59:59.999000+00:00</th>\n",
              "      <td>1.535846e+12</td>\n",
              "      <td>7201.57</td>\n",
              "      <td>7345.45</td>\n",
              "      <td>7127.00</td>\n",
              "      <td>7232.00</td>\n",
              "      <td>21834.367836</td>\n",
              "      <td>1.535890e+12</td>\n",
              "      <td>0.009684</td>\n",
              "    </tr>\n",
              "    <tr>\n",
              "      <th>2018-09-02 23:59:59.999000+00:00</th>\n",
              "      <td>1.535890e+12</td>\n",
              "      <td>7230.75</td>\n",
              "      <td>7333.33</td>\n",
              "      <td>7174.47</td>\n",
              "      <td>7302.01</td>\n",
              "      <td>17980.472516</td>\n",
              "      <td>1.535933e+12</td>\n",
              "      <td>-0.001650</td>\n",
              "    </tr>\n",
              "    <tr>\n",
              "      <th>2018-09-03 11:59:59.999000+00:00</th>\n",
              "      <td>1.535933e+12</td>\n",
              "      <td>7302.00</td>\n",
              "      <td>7325.00</td>\n",
              "      <td>7191.63</td>\n",
              "      <td>7226.60</td>\n",
              "      <td>15346.308031</td>\n",
              "      <td>1.535976e+12</td>\n",
              "      <td>-0.001136</td>\n",
              "    </tr>\n",
              "  </tbody>\n",
              "</table>\n",
              "</div>"
            ],
            "text/plain": [
              "                                       open_ts     open  ...      close_ts   returns\n",
              "date                                                     ...                        \n",
              "2018-09-01 11:59:59.999000+00:00  1.535760e+12  7011.21  ...  1.535803e+12       NaN\n",
              "2018-09-01 23:59:59.999000+00:00  1.535803e+12  7069.34  ...  1.535846e+12  0.022686\n",
              "2018-09-02 11:59:59.999000+00:00  1.535846e+12  7201.57  ...  1.535890e+12  0.009684\n",
              "2018-09-02 23:59:59.999000+00:00  1.535890e+12  7230.75  ...  1.535933e+12 -0.001650\n",
              "2018-09-03 11:59:59.999000+00:00  1.535933e+12  7302.00  ...  1.535976e+12 -0.001136\n",
              "\n",
              "[5 rows x 8 columns]"
            ]
          },
          "metadata": {
            "tags": []
          },
          "execution_count": 22
        }
      ]
    },
    {
      "cell_type": "code",
      "metadata": {
        "id": "T5BtJvLo05GQ",
        "colab_type": "code",
        "outputId": "47c2042d-3dc5-432c-f2c7-20ddfd1ecfbc",
        "colab": {
          "base_uri": "https://localhost:8080/",
          "height": 320
        }
      },
      "source": [
        "klines.tail()"
      ],
      "execution_count": 0,
      "outputs": [
        {
          "output_type": "execute_result",
          "data": {
            "text/html": [
              "<div>\n",
              "<style scoped>\n",
              "    .dataframe tbody tr th:only-of-type {\n",
              "        vertical-align: middle;\n",
              "    }\n",
              "\n",
              "    .dataframe tbody tr th {\n",
              "        vertical-align: top;\n",
              "    }\n",
              "\n",
              "    .dataframe thead th {\n",
              "        text-align: right;\n",
              "    }\n",
              "</style>\n",
              "<table border=\"1\" class=\"dataframe\">\n",
              "  <thead>\n",
              "    <tr style=\"text-align: right;\">\n",
              "      <th></th>\n",
              "      <th>open_ts</th>\n",
              "      <th>open</th>\n",
              "      <th>high</th>\n",
              "      <th>low</th>\n",
              "      <th>close</th>\n",
              "      <th>volume</th>\n",
              "      <th>close_ts</th>\n",
              "      <th>returns</th>\n",
              "    </tr>\n",
              "    <tr>\n",
              "      <th>date</th>\n",
              "      <th></th>\n",
              "      <th></th>\n",
              "      <th></th>\n",
              "      <th></th>\n",
              "      <th></th>\n",
              "      <th></th>\n",
              "      <th></th>\n",
              "      <th></th>\n",
              "    </tr>\n",
              "  </thead>\n",
              "  <tbody>\n",
              "    <tr>\n",
              "      <th>2019-11-16 23:59:59.999000+00:00</th>\n",
              "      <td>1.573906e+12</td>\n",
              "      <td>8478.79</td>\n",
              "      <td>8526.24</td>\n",
              "      <td>8453.60</td>\n",
              "      <td>8491.02</td>\n",
              "      <td>8536.265581</td>\n",
              "      <td>1.573949e+12</td>\n",
              "      <td>-0.001962</td>\n",
              "    </tr>\n",
              "    <tr>\n",
              "      <th>2019-11-17 11:59:59.999000+00:00</th>\n",
              "      <td>1.573949e+12</td>\n",
              "      <td>8490.74</td>\n",
              "      <td>8591.83</td>\n",
              "      <td>8350.68</td>\n",
              "      <td>8521.26</td>\n",
              "      <td>14474.212667</td>\n",
              "      <td>1.573992e+12</td>\n",
              "      <td>0.007693</td>\n",
              "    </tr>\n",
              "    <tr>\n",
              "      <th>2019-11-17 23:59:59.999000+00:00</th>\n",
              "      <td>1.573992e+12</td>\n",
              "      <td>8521.26</td>\n",
              "      <td>8635.00</td>\n",
              "      <td>8455.55</td>\n",
              "      <td>8502.40</td>\n",
              "      <td>12534.824415</td>\n",
              "      <td>1.574035e+12</td>\n",
              "      <td>0.005025</td>\n",
              "    </tr>\n",
              "    <tr>\n",
              "      <th>2019-11-18 11:59:59.999000+00:00</th>\n",
              "      <td>1.574035e+12</td>\n",
              "      <td>8502.87</td>\n",
              "      <td>8503.52</td>\n",
              "      <td>8415.00</td>\n",
              "      <td>8443.77</td>\n",
              "      <td>12166.119431</td>\n",
              "      <td>1.574078e+12</td>\n",
              "      <td>-0.015226</td>\n",
              "    </tr>\n",
              "    <tr>\n",
              "      <th>2019-11-18 23:59:59.999000+00:00</th>\n",
              "      <td>1.574078e+12</td>\n",
              "      <td>8443.90</td>\n",
              "      <td>8465.48</td>\n",
              "      <td>8060.00</td>\n",
              "      <td>8211.00</td>\n",
              "      <td>22322.636559</td>\n",
              "      <td>1.574122e+12</td>\n",
              "      <td>-0.004473</td>\n",
              "    </tr>\n",
              "  </tbody>\n",
              "</table>\n",
              "</div>"
            ],
            "text/plain": [
              "                                       open_ts     open  ...      close_ts   returns\n",
              "date                                                     ...                        \n",
              "2019-11-16 23:59:59.999000+00:00  1.573906e+12  8478.79  ...  1.573949e+12 -0.001962\n",
              "2019-11-17 11:59:59.999000+00:00  1.573949e+12  8490.74  ...  1.573992e+12  0.007693\n",
              "2019-11-17 23:59:59.999000+00:00  1.573992e+12  8521.26  ...  1.574035e+12  0.005025\n",
              "2019-11-18 11:59:59.999000+00:00  1.574035e+12  8502.87  ...  1.574078e+12 -0.015226\n",
              "2019-11-18 23:59:59.999000+00:00  1.574078e+12  8443.90  ...  1.574122e+12 -0.004473\n",
              "\n",
              "[5 rows x 8 columns]"
            ]
          },
          "metadata": {
            "tags": []
          },
          "execution_count": 85
        }
      ]
    },
    {
      "cell_type": "code",
      "metadata": {
        "id": "YU2OylUhJOfa",
        "colab_type": "code",
        "colab": {}
      },
      "source": [
        "klines.to_csv('BTCUSD_12h_2018-09-01_to_2019-11-18_binance.csv')"
      ],
      "execution_count": 0,
      "outputs": []
    },
    {
      "cell_type": "markdown",
      "metadata": {
        "id": "aQNIDQ5q05GS",
        "colab_type": "text"
      },
      "source": [
        "## Time for backtesting\n",
        "\n",
        "Check the Gemini [documentation](https://gemini-docs.readthedocs.io/en/latest/) and [old examples](https://github.com/anfederico/Gemini/blob/master/docs/using-gemini.rst)\n",
        "\n",
        "### imports"
      ]
    },
    {
      "cell_type": "code",
      "metadata": {
        "id": "JyI5yl1T05GS",
        "colab_type": "code",
        "colab": {}
      },
      "source": [
        "from gemini import engine\n",
        "from helper import load_binance_klines\n",
        "import os\n",
        "import numpy as np\n",
        "import tensorflow as tf\n",
        "import helper as h"
      ],
      "execution_count": 0,
      "outputs": []
    },
    {
      "cell_type": "markdown",
      "metadata": {
        "id": "NweSQqo_05GU",
        "colab_type": "text"
      },
      "source": [
        "### Helper function for preprocessing"
      ]
    },
    {
      "cell_type": "code",
      "metadata": {
        "id": "P53R2cXR05GU",
        "colab_type": "code",
        "colab": {}
      },
      "source": [
        "def preprocess(model, data, win_sz=50):\n",
        "    \"\"\"\n",
        "    \"\"\"\n",
        "    forecast = model.predict(data['returns'].to_numpy())\n",
        "    # data['forecast'] = np.nan\n",
        "    data['forecast'] = forecast.flatten().copy()\n",
        "\n",
        "    data = data[win_sz:]\n",
        "    return data"
      ],
      "execution_count": 0,
      "outputs": []
    },
    {
      "cell_type": "markdown",
      "metadata": {
        "id": "k5r6Lrq705GW",
        "colab_type": "text"
      },
      "source": [
        "### Trading logic, or strategy"
      ]
    },
    {
      "cell_type": "code",
      "metadata": {
        "id": "PzsdmEoy05GX",
        "colab_type": "code",
        "colab": {}
      },
      "source": [
        "#look at trading-example file and look for logic code\n",
        "\n",
        "def logic(account, lookback):\n",
        "    try:\n",
        "\n",
        "        current_t = lookback.iloc[-1]\n",
        "\n",
        "        if current_t['forecast'] > 0:  # forcasted price increase\n",
        "\n",
        "            entry_price = current_t['close']\n",
        "            risk = 0.8  # Not all in\n",
        "            entry_capital = account.buying_power * risk\n",
        "            if entry_capital > 0:\n",
        "                account.enter_position('long', entry_capital, entry_price)\n",
        "\n",
        "        elif current_t['forecast'] < 0:  # forcasted price decrease\n",
        "            exit_price = current_t['close']\n",
        "            for position in account.positions:\n",
        "                if position.type == 'long':\n",
        "                    account.close_position(position, 0.8, exit_price)\n",
        "\n",
        "    except ValueError:\n",
        "        pass  # Handles lookback errors in beginning of dataset"
      ],
      "execution_count": 0,
      "outputs": []
    },
    {
      "cell_type": "markdown",
      "metadata": {
        "id": "vMqGc_xd05GZ",
        "colab_type": "text"
      },
      "source": [
        "### Pre-process and run backtest"
      ]
    },
    {
      "cell_type": "code",
      "metadata": {
        "id": "a5by4l9o05GZ",
        "colab_type": "code",
        "outputId": "6b035a7d-6a70-4cbb-a9e5-a0bdc3693215",
        "colab": {
          "base_uri": "https://localhost:8080/",
          "height": 255
        }
      },
      "source": [
        "# load pre-trained model\n",
        "model = tf.keras.models.load_model('BidirLSTM_96Gold_epochs%d.h5' % epochs)\n",
        "fname = os.path.join('BTCUSD_12h_2018-09-01_to_2019-11-18_binance.csv')\n",
        "# load data\n",
        "data = load_binance_klines(fname)\n",
        "# pre-process\n",
        "data = preprocess(model, data)\n",
        "# # initialize backtest\n",
        "backtest = engine.backtest(data)\n",
        "# Start backtesting custom logic with 10 (BTC) intital capital\n",
        "backtest.start(10, logic)\n",
        "# # check results\n",
        "backtest.results()"
      ],
      "execution_count": 0,
      "outputs": [
        {
          "output_type": "stream",
          "text": [
            "-------------- Results ----------------\n",
            "\n",
            "Buy and Hold : 26.08%\n",
            "Net Profit   : 2.61\n",
            "Strategy     : 22.89%\n",
            "Net Profit   : 2.29\n",
            "Longs        : 465\n",
            "Sells        : 0\n",
            "Shorts       : 0\n",
            "Covers       : 0\n",
            "--------------------\n",
            "Total Trades : 465\n",
            "\n",
            "---------------------------------------\n"
          ],
          "name": "stdout"
        }
      ]
    },
    {
      "cell_type": "markdown",
      "metadata": {
        "id": "_-wjsGWFwmy2",
        "colab_type": "text"
      },
      "source": [
        "Group#4 \"Become a Millionaire\" Strategy Code\n"
      ]
    }
  ]
}