{
  "nbformat": 4,
  "nbformat_minor": 0,
  "metadata": {
    "kernelspec": {
      "display_name": "Python 3",
      "language": "python",
      "name": "python3"
    },
    "language_info": {
      "codemirror_mode": {
        "name": "ipython",
        "version": 3
      },
      "file_extension": ".py",
      "mimetype": "text/x-python",
      "name": "python",
      "nbconvert_exporter": "python",
      "pygments_lexer": "ipython3",
      "version": "3.7.5rc1"
    },
    "colab": {
      "name": "Group4_Tradingbot.ipynb",
      "provenance": [],
      "collapsed_sections": [],
      "toc_visible": true
    }
  },
  "cells": [
    {
      "cell_type": "markdown",
      "metadata": {
        "id": "kdvRfXBJ96OF",
        "colab_type": "text"
      },
      "source": [
        "## Imports"
      ]
    },
    {
      "cell_type": "code",
      "metadata": {
        "id": "GAty4w2KFV3v",
        "colab_type": "code",
        "outputId": "9e477a38-bce4-44a2-d6c2-624a4085650f",
        "colab": {
          "base_uri": "https://localhost:8080/",
          "height": 972
        }
      },
      "source": [
        "!pip3 install python-binance"
      ],
      "execution_count": 1,
      "outputs": [
        {
          "output_type": "stream",
          "text": [
            "Collecting python-binance\n",
            "  Downloading https://files.pythonhosted.org/packages/b3/a8/80f39763ea30f5d62088ec6796c93df83ad79ebe634253ee8e93e7b42d8e/python_binance-0.7.4-py2.py3-none-any.whl\n",
            "Collecting autobahn\n",
            "\u001b[?25l  Downloading https://files.pythonhosted.org/packages/35/77/1bf9b3c4c0850fd6f00996afcf5e71e35295c145833f4e2430d0a7fddbaa/autobahn-19.11.1-py2.py3-none-any.whl (769kB)\n",
            "\u001b[K     |████████████████████████████████| 778kB 16.0MB/s \n",
            "\u001b[?25hCollecting Twisted\n",
            "\u001b[?25l  Downloading https://files.pythonhosted.org/packages/88/e2/0c21fadf0dff02d145db02f24a6ed2c24993e7242d138babbca41de2f5a2/Twisted-19.10.0-cp36-cp36m-manylinux1_x86_64.whl (3.1MB)\n",
            "\u001b[K     |████████████████████████████████| 3.1MB 45.4MB/s \n",
            "\u001b[?25hRequirement already satisfied: urllib3 in /usr/local/lib/python3.6/dist-packages (from python-binance) (1.24.3)\n",
            "Collecting service-identity\n",
            "  Downloading https://files.pythonhosted.org/packages/e9/7c/2195b890023e098f9618d43ebc337d83c8b38d414326685339eb024db2f6/service_identity-18.1.0-py2.py3-none-any.whl\n",
            "Requirement already satisfied: chardet in /usr/local/lib/python3.6/dist-packages (from python-binance) (3.0.4)\n",
            "Requirement already satisfied: six in /usr/local/lib/python3.6/dist-packages (from python-binance) (1.12.0)\n",
            "Requirement already satisfied: requests in /usr/local/lib/python3.6/dist-packages (from python-binance) (2.21.0)\n",
            "Collecting pyOpenSSL\n",
            "\u001b[?25l  Downloading https://files.pythonhosted.org/packages/9e/de/f8342b68fa9e981d348039954657bdf681b2ab93de27443be51865ffa310/pyOpenSSL-19.1.0-py2.py3-none-any.whl (53kB)\n",
            "\u001b[K     |████████████████████████████████| 61kB 9.8MB/s \n",
            "\u001b[?25hCollecting dateparser\n",
            "\u001b[?25l  Downloading https://files.pythonhosted.org/packages/82/9d/51126ac615bbc4418478d725a5fa1a0f112059f6f111e4b48cfbe17ef9d0/dateparser-0.7.2-py2.py3-none-any.whl (352kB)\n",
            "\u001b[K     |████████████████████████████████| 358kB 50.7MB/s \n",
            "\u001b[?25hRequirement already satisfied: certifi in /usr/local/lib/python3.6/dist-packages (from python-binance) (2019.9.11)\n",
            "Collecting cryptography\n",
            "\u001b[?25l  Downloading https://files.pythonhosted.org/packages/ca/9a/7cece52c46546e214e10811b36b2da52ce1ea7fa203203a629b8dfadad53/cryptography-2.8-cp34-abi3-manylinux2010_x86_64.whl (2.3MB)\n",
            "\u001b[K     |████████████████████████████████| 2.3MB 53.0MB/s \n",
            "\u001b[?25hCollecting txaio>=18.8.1\n",
            "  Downloading https://files.pythonhosted.org/packages/e9/6d/e1a6f7835cde86728e5bb1f577be9b2d7d273fdb33c286e70b087d418ded/txaio-18.8.1-py2.py3-none-any.whl\n",
            "Collecting PyHamcrest>=1.9.0\n",
            "\u001b[?25l  Downloading https://files.pythonhosted.org/packages/9a/d5/d37fd731b7d0e91afcc84577edeccf4638b4f9b82f5ffe2f8b62e2ddc609/PyHamcrest-1.9.0-py2.py3-none-any.whl (52kB)\n",
            "\u001b[K     |████████████████████████████████| 61kB 6.1MB/s \n",
            "\u001b[?25hRequirement already satisfied: attrs>=17.4.0 in /usr/local/lib/python3.6/dist-packages (from Twisted->python-binance) (19.3.0)\n",
            "Collecting constantly>=15.1\n",
            "  Downloading https://files.pythonhosted.org/packages/b9/65/48c1909d0c0aeae6c10213340ce682db01b48ea900a7d9fce7a7910ff318/constantly-15.1.0-py2.py3-none-any.whl\n",
            "Collecting Automat>=0.3.0\n",
            "  Downloading https://files.pythonhosted.org/packages/e5/11/756922e977bb296a79ccf38e8d45cafee446733157d59bcd751d3aee57f5/Automat-0.8.0-py2.py3-none-any.whl\n",
            "Collecting zope.interface>=4.4.2\n",
            "\u001b[?25l  Downloading https://files.pythonhosted.org/packages/05/16/79fe71428c91673194a21fedcc46f7f1349db799bc2a65da4ffdbe570343/zope.interface-4.7.1-cp36-cp36m-manylinux2010_x86_64.whl (168kB)\n",
            "\u001b[K     |████████████████████████████████| 174kB 38.3MB/s \n",
            "\u001b[?25hCollecting hyperlink>=17.1.1\n",
            "  Downloading https://files.pythonhosted.org/packages/7f/91/e916ca10a2de1cb7101a9b24da546fb90ee14629e23160086cf3361c4fb8/hyperlink-19.0.0-py2.py3-none-any.whl\n",
            "Collecting incremental>=16.10.1\n",
            "  Downloading https://files.pythonhosted.org/packages/f5/1d/c98a587dc06e107115cf4a58b49de20b19222c83d75335a192052af4c4b7/incremental-17.5.0-py2.py3-none-any.whl\n",
            "Requirement already satisfied: pyasn1 in /usr/local/lib/python3.6/dist-packages (from service-identity->python-binance) (0.4.7)\n",
            "Requirement already satisfied: pyasn1-modules in /usr/local/lib/python3.6/dist-packages (from service-identity->python-binance) (0.2.7)\n",
            "Requirement already satisfied: idna<2.9,>=2.5 in /usr/local/lib/python3.6/dist-packages (from requests->python-binance) (2.8)\n",
            "Requirement already satisfied: tzlocal in /usr/local/lib/python3.6/dist-packages (from dateparser->python-binance) (1.5.1)\n",
            "Requirement already satisfied: pytz in /usr/local/lib/python3.6/dist-packages (from dateparser->python-binance) (2018.9)\n",
            "Collecting regex\n",
            "\u001b[?25l  Downloading https://files.pythonhosted.org/packages/e3/8e/cbf2295643d7265e7883326fb4654e643bfc93b3a8a8274d8010a39d8804/regex-2019.11.1-cp36-cp36m-manylinux1_x86_64.whl (643kB)\n",
            "\u001b[K     |████████████████████████████████| 645kB 47.0MB/s \n",
            "\u001b[?25hRequirement already satisfied: python-dateutil in /usr/local/lib/python3.6/dist-packages (from dateparser->python-binance) (2.6.1)\n",
            "Requirement already satisfied: cffi!=1.11.3,>=1.8 in /usr/local/lib/python3.6/dist-packages (from cryptography->python-binance) (1.13.2)\n",
            "Requirement already satisfied: setuptools in /usr/local/lib/python3.6/dist-packages (from PyHamcrest>=1.9.0->Twisted->python-binance) (41.6.0)\n",
            "Requirement already satisfied: pycparser in /usr/local/lib/python3.6/dist-packages (from cffi!=1.11.3,>=1.8->cryptography->python-binance) (2.19)\n",
            "Installing collected packages: cryptography, txaio, autobahn, PyHamcrest, constantly, Automat, zope.interface, hyperlink, incremental, Twisted, service-identity, pyOpenSSL, regex, dateparser, python-binance\n",
            "Successfully installed Automat-0.8.0 PyHamcrest-1.9.0 Twisted-19.10.0 autobahn-19.11.1 constantly-15.1.0 cryptography-2.8 dateparser-0.7.2 hyperlink-19.0.0 incremental-17.5.0 pyOpenSSL-19.1.0 python-binance-0.7.4 regex-2019.11.1 service-identity-18.1.0 txaio-18.8.1 zope.interface-4.7.1\n"
          ],
          "name": "stdout"
        }
      ]
    },
    {
      "cell_type": "code",
      "metadata": {
        "id": "C-n3cyql96OH",
        "colab_type": "code",
        "outputId": "6efd4d14-a76d-4022-b9f1-c8bd23225717",
        "colab": {
          "base_uri": "https://localhost:8080/",
          "height": 34
        }
      },
      "source": [
        "\n",
        "%tensorflow_version 2.x\n",
        "import trading_helper as th\n",
        "import numpy as np\n",
        "import pandas as pd\n",
        "import time\n",
        "import os\n",
        "import tensorflow\n",
        "import tensorflow as tf\n",
        "import json\n",
        "from datetime import datetime, timedelta, timezone"
      ],
      "execution_count": 2,
      "outputs": [
        {
          "output_type": "stream",
          "text": [
            "TensorFlow 2.x selected.\n"
          ],
          "name": "stdout"
        }
      ]
    },
    {
      "cell_type": "markdown",
      "metadata": {
        "id": "Bb9smJuF96OK",
        "colab_type": "text"
      },
      "source": [
        "## Trading strategy\n",
        "Here is a simple trading strategy meat to illustrate the bare minimum.\n",
        "\n",
        "See the (Python Binance API)[https://python-binance.readthedocs.io/en/latest/] for more functionality."
      ]
    },
    {
      "cell_type": "markdown",
      "metadata": {
        "id": "VRT7mVMf6b--",
        "colab_type": "text"
      },
      "source": [
        "Group4 \"Become A Millionaire\" Strategy"
      ]
    },
    {
      "cell_type": "code",
      "metadata": {
        "id": "5Bn2b4NH96OK",
        "colab_type": "code",
        "colab": {}
      },
      "source": [
        "def strategy(model, keys_fname, log_fname, win_sz, trading_interval='12h'):\n",
        "    \"\"\"\n",
        "    Arguments\n",
        "    --------- \n",
        "    model            : Some trained forecasting model\n",
        "    keys_fname       : File name to the keys, see below\n",
        "    log_fname        : You will need to log the trades you submit to Binance. \n",
        "                       The file name should be on the format \"tradingbot_group<number>_<date_time>.log\". \n",
        "                       E.g. \"tradingbot_group1_2019-11-13_00:23:23.log\"\n",
        "    win_sz           : The window size that you specified when training the model, \n",
        "                       i.e. how many time steps of historical data the model needs for a forecast.\n",
        "    trading_interval : How often the trading bot will query data from Binance, \n",
        "                       make a new forecast and decide whether to trade. \n",
        "                       E.g. '1min', '5min', '15min', '30min', '1h', '2h', '4h', '6h', '12h', '1d' or '1w'.\n",
        "    \"\"\"\n",
        "    \n",
        "    # use the keys stored in KEYS_FNAME to initialize the Binance client\n",
        "    client = th.init_client(keys_fname)\n",
        "    \n",
        "    # convert the trading_interval string to seconds (int)\n",
        "    interval_s = th.interval_string_to_seconds(trading_interval)\n",
        "    \n",
        "    # initialize the log file\n",
        "    th.log(log_fname, new_log=True)\n",
        "        \n",
        "    # initialize trading with historical data\n",
        "    t = datetime.utcnow()\n",
        "    # timedelta(weeks=2) -> 2 weeks back in time\n",
        "    t = th.UTC('time') - timedelta(weeks=7)\n",
        "    # get data to begin forecasting from\n",
        "    data = th.get_klines([t.year, t.month, t.day, t.hour, t.minute, t.second], interval=trading_interval)\n",
        "    \n",
        "    # forecast \n",
        "    x = data['returns'][-win_sz:].to_numpy().reshape((win_sz, 1))\n",
        "    forecast = model.predict(x)\n",
        "    \n",
        "    while True:\n",
        "    \n",
        "        try:\n",
        "\n",
        "            if forecast[-1] > 0.0008:  # forcasted price increase -> buy\n",
        "\n",
        "                # decide on how to set the entry price\n",
        "                entry_price = data['high'][-1] \n",
        "                risk = 0.7  # all in, max risk\n",
        "                # get the current balance\n",
        "                balance = client.get_asset_balance(asset='USDT')\n",
        "                entry_capital = np.float64(balance['free']) * risk # balance['free'] is a str -> convert to float\n",
        "                \n",
        "                if entry_capital > 0:\n",
        "                    order = th.limit_buy(client, 'BTCUSDT', entry_price, quantity=entry_capital)\n",
        "                    \n",
        "                    th.log(log_fname, order_type='NEW_BUY', quantity=order['origQty'],\n",
        "                        price=entry_price, time=th.UTC('iso'))\n",
        "\n",
        "            elif forecast[-1] < 0:  # forcasted price decrease\n",
        "                exit_price = data['low'][-1] \n",
        "                balance = client.get_asset_balance(asset='BTC')\n",
        "                risk = 0.6  # all in, max risk\n",
        "                exit_capital = np.float64(balance['free']) * risk # balance['free'] is a str -> convert to float\n",
        "\n",
        "                if entry_capital > 0:\n",
        "                    order = th.limit_sell(client, 'BTCUSDT', exit_price, quantity=exit_capital)\n",
        "                    th.log(log_fname, order_type='NEW_SELL', quantity=order['origQty'],\n",
        "                        price=exit_price, time=th.UTC('iso'))\n",
        "                    \n",
        "            # pause/sleep for the trading_interval\n",
        "            time.sleep(interval_s)\n",
        "            # get last time from data\n",
        "            t = data.index[-1]\n",
        "            # update data \n",
        "            tmp = h.get_klines([t.year, t.month, t.day, t.hour, t.minute, t.second], interval=trading_interval)\n",
        "            data.append(tmp)\n",
        "            forecast = model.predict(data['returns'][-win_sz:])\n",
        "                \n",
        "        except ValueError:\n",
        "            pass  # Handles lookback errors in beginning of dataset"
      ],
      "execution_count": 0,
      "outputs": []
    },
    {
      "cell_type": "markdown",
      "metadata": {
        "id": "FVitVyCU96ON",
        "colab_type": "text"
      },
      "source": [
        "## Live trading on Binance"
      ]
    },
    {
      "cell_type": "code",
      "metadata": {
        "id": "pVkfzc2k96OO",
        "colab_type": "code",
        "outputId": "0135c938-1f61-43fb-95b3-e02c4f8d94b8",
        "colab": {
          "base_uri": "https://localhost:8080/",
          "height": 334
        }
      },
      "source": [
        "# load pre-trained model\n",
        "\n",
        "#model_name = 'BidirLSTM_96Gold2_epochs300.h5'\n",
        "#model_dir = os.path.join('models', model_name)\n",
        "#fname_model = 'BidirLSTM_96Gold2_epochs300.h5' % (model_dir, model_name, epochs)\n",
        "\n",
        "\n",
        "model = tf.keras.models.load_model('BidirLSTM_96Gold2_epochs300.h5')\n",
        "keys_fname = 'Group4_key.json' # set this file name to your file name\n",
        "log_fname = 'tradingbot_group4_%s.log' % (th.UTC('iso')[:-10]) # \n",
        "win_sz = 50  # example\n",
        "trading_interval = '12h' # example\n",
        "strategy(model, keys_fname, log_fname, win_sz=50, trading_interval=trading_interval)"
      ],
      "execution_count": 6,
      "outputs": [
        {
          "output_type": "stream",
          "text": [
            "\t 2019-11-20 23:59\n"
          ],
          "name": "stdout"
        },
        {
          "output_type": "error",
          "ename": "KeyboardInterrupt",
          "evalue": "ignored",
          "traceback": [
            "\u001b[0;31m---------------------------------------------------------------------------\u001b[0m",
            "\u001b[0;31mKeyboardInterrupt\u001b[0m                         Traceback (most recent call last)",
            "\u001b[0;32m<ipython-input-6-5d9954664395>\u001b[0m in \u001b[0;36m<module>\u001b[0;34m()\u001b[0m\n\u001b[1;32m      6\u001b[0m \u001b[0mwin_sz\u001b[0m \u001b[0;34m=\u001b[0m \u001b[0;36m50\u001b[0m  \u001b[0;31m# example\u001b[0m\u001b[0;34m\u001b[0m\u001b[0;34m\u001b[0m\u001b[0m\n\u001b[1;32m      7\u001b[0m \u001b[0mtrading_interval\u001b[0m \u001b[0;34m=\u001b[0m \u001b[0;34m'12h'\u001b[0m \u001b[0;31m# example\u001b[0m\u001b[0;34m\u001b[0m\u001b[0;34m\u001b[0m\u001b[0m\n\u001b[0;32m----> 8\u001b[0;31m \u001b[0mstrategy\u001b[0m\u001b[0;34m(\u001b[0m\u001b[0mmodel\u001b[0m\u001b[0;34m,\u001b[0m \u001b[0mkeys_fname\u001b[0m\u001b[0;34m,\u001b[0m \u001b[0mlog_fname\u001b[0m\u001b[0;34m,\u001b[0m \u001b[0mwin_sz\u001b[0m\u001b[0;34m=\u001b[0m\u001b[0;36m50\u001b[0m\u001b[0;34m,\u001b[0m \u001b[0mtrading_interval\u001b[0m\u001b[0;34m=\u001b[0m\u001b[0mtrading_interval\u001b[0m\u001b[0;34m)\u001b[0m\u001b[0;34m\u001b[0m\u001b[0;34m\u001b[0m\u001b[0m\n\u001b[0m",
            "\u001b[0;32m<ipython-input-3-2390d20b4514>\u001b[0m in \u001b[0;36mstrategy\u001b[0;34m(model, keys_fname, log_fname, win_sz, trading_interval)\u001b[0m\n\u001b[1;32m     66\u001b[0m \u001b[0;34m\u001b[0m\u001b[0m\n\u001b[1;32m     67\u001b[0m             \u001b[0;31m# pause/sleep for the trading_interval\u001b[0m\u001b[0;34m\u001b[0m\u001b[0;34m\u001b[0m\u001b[0;34m\u001b[0m\u001b[0m\n\u001b[0;32m---> 68\u001b[0;31m             \u001b[0mtime\u001b[0m\u001b[0;34m.\u001b[0m\u001b[0msleep\u001b[0m\u001b[0;34m(\u001b[0m\u001b[0minterval_s\u001b[0m\u001b[0;34m)\u001b[0m\u001b[0;34m\u001b[0m\u001b[0;34m\u001b[0m\u001b[0m\n\u001b[0m\u001b[1;32m     69\u001b[0m             \u001b[0;31m# get last time from data\u001b[0m\u001b[0;34m\u001b[0m\u001b[0;34m\u001b[0m\u001b[0;34m\u001b[0m\u001b[0m\n\u001b[1;32m     70\u001b[0m             \u001b[0mt\u001b[0m \u001b[0;34m=\u001b[0m \u001b[0mdata\u001b[0m\u001b[0;34m.\u001b[0m\u001b[0mindex\u001b[0m\u001b[0;34m[\u001b[0m\u001b[0;34m-\u001b[0m\u001b[0;36m1\u001b[0m\u001b[0;34m]\u001b[0m\u001b[0;34m\u001b[0m\u001b[0;34m\u001b[0m\u001b[0m\n",
            "\u001b[0;31mKeyboardInterrupt\u001b[0m: "
          ]
        }
      ]
    }
  ]
}